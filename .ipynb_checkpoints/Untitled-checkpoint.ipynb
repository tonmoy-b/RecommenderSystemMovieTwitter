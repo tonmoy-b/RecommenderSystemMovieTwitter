{
 "cells": [
  {
   "cell_type": "markdown",
   "id": "pressed-inclusion",
   "metadata": {},
   "source": [
    "A Recommendation System based on the Movie-Recommendation Dataset at: https://github.com/sidooms/MovieTweetings"
   ]
  },
  {
   "cell_type": "code",
   "execution_count": 1,
   "id": "universal-compiler",
   "metadata": {},
   "outputs": [],
   "source": [
    "import sys\n",
    "import tensorflow as tf\n",
    "import numpy as np\n",
    "import pandas as pd\n",
    "import sklearn"
   ]
  },
  {
   "cell_type": "code",
   "execution_count": 7,
   "id": "presidential-charity",
   "metadata": {},
   "outputs": [
    {
     "name": "stdout",
     "output_type": "stream",
     "text": [
      "The versions of software currently in usage are::\n",
      "    TensorFlow Version : 2.4.1,\n",
      "    Pandas Version : 1.2.3\n"
     ]
    }
   ],
   "source": [
    "version_info = \"\"\"The versions of software currently in usage are::\n",
    "    TensorFlow Version : {},\n",
    "    Pandas Version : {}\"\"\".format(tf.__version__, pd.__version__)\n",
    "\n",
    "print(version_info)"
   ]
  },
  {
   "cell_type": "markdown",
   "id": "suitable-transcript",
   "metadata": {},
   "source": [
    "The following Code block will download the dataset and place a local copy for subsequent use."
   ]
  },
  {
   "cell_type": "code",
   "execution_count": 79,
   "id": "fantastic-bachelor",
   "metadata": {},
   "outputs": [],
   "source": [
    "import os, requests, io\n",
    "\n",
    "github_file_folder_path = 'https://raw.githubusercontent.com/sidooms/MovieTweetings/master/latest'\n",
    "files = {'ratings_file':'/ratings.dat', 'movies_file':'/movies.dat', 'users_file':'/users.dat'}\n",
    "def file_access_web_url(file) :\n",
    "    return github_file_folder_path + files[file]\n",
    "    \n",
    "        \n"
   ]
  },
  {
   "cell_type": "code",
   "execution_count": 80,
   "id": "imported-house",
   "metadata": {},
   "outputs": [
    {
     "name": "stdout",
     "output_type": "stream",
     "text": [
      "File is present.\n"
     ]
    }
   ],
   "source": [
    "#download the file\n",
    "url = file_access_web_url('ratings_file')\n",
    "ratings_file = requests.get(url, allow_redirects=True)\n",
    "\n",
    "#ensure that the target folder for saving the file exists\n",
    "file_save_dir = \"./data\"\n",
    "file_save_name = \"/ratings.dat\"\n",
    "if not os.path.exists(os.path.dirname(file_save_dir+file_save_name)):\n",
    "    os.makedirs(os.path.dirname(file_save_dir+file_save_name))\n",
    "\n",
    "#save the downloaded data into the taget file in the local system\n",
    "with open('./data/ratings.dat', 'wb+') as file:\n",
    "    file.write(ratings_file.content)\n",
    "#\n",
    "utf8_formatted_input = io.StringIO(ratings_file.content.decode('utf-8'))\n",
    "\n",
    "#Present a quick status message about the outcome of the above operations\n",
    "if not os.path.exists(os.path.dirname(file_save_dir+file_save_name)):\n",
    "    print('File has not been downloaded!!')\n",
    "else:\n",
    "    print('File is present.')"
   ]
  },
  {
   "cell_type": "code",
   "execution_count": null,
   "id": "inside-cooling",
   "metadata": {},
   "outputs": [],
   "source": []
  },
  {
   "cell_type": "code",
   "execution_count": 81,
   "id": "specific-color",
   "metadata": {},
   "outputs": [
    {
     "data": {
      "text/plain": [
       "bytes"
      ]
     },
     "execution_count": 81,
     "metadata": {},
     "output_type": "execute_result"
    }
   ],
   "source": [
    "type(ratings_file.content)"
   ]
  },
  {
   "cell_type": "code",
   "execution_count": 82,
   "id": "integral-python",
   "metadata": {},
   "outputs": [
    {
     "name": "stderr",
     "output_type": "stream",
     "text": [
      "<ipython-input-82-eedc8320e455>:2: ParserWarning: Falling back to the 'python' engine because the 'c' engine does not support regex separators (separators > 1 char and different from '\\s+' are interpreted as regex); you can avoid this warning by specifying engine='python'.\n",
      "  df=pd.read_csv(utf8_formatted_input, sep=\"::\", names=columns)\n"
     ]
    }
   ],
   "source": [
    "\n",
    "columns = [\"user_id\",\"movie_id\",\"rating\",\"rating_timestamp\"]\n",
    "df=pd.read_csv(utf8_formatted_input, sep=\"::\", names=columns)"
   ]
  },
  {
   "cell_type": "code",
   "execution_count": 83,
   "id": "threaded-wedding",
   "metadata": {},
   "outputs": [
    {
     "data": {
      "text/html": [
       "<div>\n",
       "<style scoped>\n",
       "    .dataframe tbody tr th:only-of-type {\n",
       "        vertical-align: middle;\n",
       "    }\n",
       "\n",
       "    .dataframe tbody tr th {\n",
       "        vertical-align: top;\n",
       "    }\n",
       "\n",
       "    .dataframe thead th {\n",
       "        text-align: right;\n",
       "    }\n",
       "</style>\n",
       "<table border=\"1\" class=\"dataframe\">\n",
       "  <thead>\n",
       "    <tr style=\"text-align: right;\">\n",
       "      <th></th>\n",
       "      <th>user_id</th>\n",
       "      <th>movie_id</th>\n",
       "      <th>rating</th>\n",
       "      <th>rating_timestamp</th>\n",
       "    </tr>\n",
       "  </thead>\n",
       "  <tbody>\n",
       "    <tr>\n",
       "      <th>0</th>\n",
       "      <td>1</td>\n",
       "      <td>114508</td>\n",
       "      <td>8</td>\n",
       "      <td>1381006850</td>\n",
       "    </tr>\n",
       "    <tr>\n",
       "      <th>1</th>\n",
       "      <td>2</td>\n",
       "      <td>499549</td>\n",
       "      <td>9</td>\n",
       "      <td>1376753198</td>\n",
       "    </tr>\n",
       "    <tr>\n",
       "      <th>2</th>\n",
       "      <td>2</td>\n",
       "      <td>1305591</td>\n",
       "      <td>8</td>\n",
       "      <td>1376742507</td>\n",
       "    </tr>\n",
       "    <tr>\n",
       "      <th>3</th>\n",
       "      <td>2</td>\n",
       "      <td>1428538</td>\n",
       "      <td>1</td>\n",
       "      <td>1371307089</td>\n",
       "    </tr>\n",
       "    <tr>\n",
       "      <th>4</th>\n",
       "      <td>3</td>\n",
       "      <td>75314</td>\n",
       "      <td>1</td>\n",
       "      <td>1595468524</td>\n",
       "    </tr>\n",
       "  </tbody>\n",
       "</table>\n",
       "</div>"
      ],
      "text/plain": [
       "   user_id  movie_id  rating  rating_timestamp\n",
       "0        1    114508       8        1381006850\n",
       "1        2    499549       9        1376753198\n",
       "2        2   1305591       8        1376742507\n",
       "3        2   1428538       1        1371307089\n",
       "4        3     75314       1        1595468524"
      ]
     },
     "execution_count": 83,
     "metadata": {},
     "output_type": "execute_result"
    }
   ],
   "source": [
    "df.head()"
   ]
  },
  {
   "cell_type": "code",
   "execution_count": 84,
   "id": "guided-clothing",
   "metadata": {},
   "outputs": [
    {
     "data": {
      "text/html": [
       "<div>\n",
       "<style scoped>\n",
       "    .dataframe tbody tr th:only-of-type {\n",
       "        vertical-align: middle;\n",
       "    }\n",
       "\n",
       "    .dataframe tbody tr th {\n",
       "        vertical-align: top;\n",
       "    }\n",
       "\n",
       "    .dataframe thead th {\n",
       "        text-align: right;\n",
       "    }\n",
       "</style>\n",
       "<table border=\"1\" class=\"dataframe\">\n",
       "  <thead>\n",
       "    <tr style=\"text-align: right;\">\n",
       "      <th></th>\n",
       "      <th>Unnamed: 0</th>\n",
       "      <th>user_id</th>\n",
       "      <th>movie_id</th>\n",
       "      <th>rating</th>\n",
       "      <th>rating_timestamp</th>\n",
       "    </tr>\n",
       "  </thead>\n",
       "  <tbody>\n",
       "    <tr>\n",
       "      <th>0</th>\n",
       "      <td>0</td>\n",
       "      <td>1</td>\n",
       "      <td>114508</td>\n",
       "      <td>8</td>\n",
       "      <td>1381006850</td>\n",
       "    </tr>\n",
       "    <tr>\n",
       "      <th>1</th>\n",
       "      <td>1</td>\n",
       "      <td>2</td>\n",
       "      <td>499549</td>\n",
       "      <td>9</td>\n",
       "      <td>1376753198</td>\n",
       "    </tr>\n",
       "    <tr>\n",
       "      <th>2</th>\n",
       "      <td>2</td>\n",
       "      <td>2</td>\n",
       "      <td>1305591</td>\n",
       "      <td>8</td>\n",
       "      <td>1376742507</td>\n",
       "    </tr>\n",
       "    <tr>\n",
       "      <th>3</th>\n",
       "      <td>3</td>\n",
       "      <td>2</td>\n",
       "      <td>1428538</td>\n",
       "      <td>1</td>\n",
       "      <td>1371307089</td>\n",
       "    </tr>\n",
       "    <tr>\n",
       "      <th>4</th>\n",
       "      <td>4</td>\n",
       "      <td>3</td>\n",
       "      <td>75314</td>\n",
       "      <td>1</td>\n",
       "      <td>1595468524</td>\n",
       "    </tr>\n",
       "  </tbody>\n",
       "</table>\n",
       "</div>"
      ],
      "text/plain": [
       "   Unnamed: 0  user_id  movie_id  rating  rating_timestamp\n",
       "0           0        1    114508       8        1381006850\n",
       "1           1        2    499549       9        1376753198\n",
       "2           2        2   1305591       8        1376742507\n",
       "3           3        2   1428538       1        1371307089\n",
       "4           4        3     75314       1        1595468524"
      ]
     },
     "execution_count": 84,
     "metadata": {},
     "output_type": "execute_result"
    }
   ],
   "source": [
    "df.to_csv('./data/ratings.csv')\n",
    "df1 = pd.read_csv('./data/ratings.csv')\n",
    "df1.head()"
   ]
  },
  {
   "cell_type": "code",
   "execution_count": 98,
   "id": "coordinated-decrease",
   "metadata": {},
   "outputs": [
    {
     "name": "stdout",
     "output_type": "stream",
     "text": [
      "stats for column user_id:\n",
      "count    898343.000000\n",
      "mean      35291.876940\n",
      "std       20343.028377\n",
      "min           1.000000\n",
      "25%       17990.000000\n",
      "50%       35145.000000\n",
      "75%       52512.500000\n",
      "max       70210.000000\n",
      "Name: user_id, dtype: float64\n",
      "\n",
      "--------------\n",
      "\n",
      "stats for column movie_id:\n",
      "count    8.983430e+05\n",
      "mean     2.213755e+06\n",
      "std      2.074951e+06\n",
      "min      8.000000e+00\n",
      "25%      7.654290e+05\n",
      "50%      1.723121e+06\n",
      "75%      2.911666e+06\n",
      "max      1.423741e+07\n",
      "Name: movie_id, dtype: float64\n",
      "\n",
      "--------------\n",
      "\n",
      "stats for column rating:\n",
      "count    898343.000000\n",
      "mean          7.316803\n",
      "std           1.852982\n",
      "min           0.000000\n",
      "25%           6.000000\n",
      "50%           8.000000\n",
      "75%           9.000000\n",
      "max          10.000000\n",
      "Name: rating, dtype: float64\n",
      "\n",
      "--------------\n",
      "\n",
      "stats for column rating_timestamp:\n",
      "count    8.983430e+05\n",
      "mean     1.460996e+09\n",
      "std      7.050200e+07\n",
      "min      1.362062e+09\n",
      "25%      1.396684e+09\n",
      "50%      1.451290e+09\n",
      "75%      1.516088e+09\n",
      "max      1.616886e+09\n",
      "Name: rating_timestamp, dtype: float64\n",
      "\n",
      "--------------\n",
      "\n"
     ]
    }
   ],
   "source": [
    "for column in df.columns:\n",
    "    print('stats for column {}:'.format(column))\n",
    "    print(df[column].describe())\n",
    "    print(  \"\\n--------------\\n\")"
   ]
  },
  {
   "cell_type": "code",
   "execution_count": 110,
   "id": "swiss-acrylic",
   "metadata": {},
   "outputs": [
    {
     "name": "stdout",
     "output_type": "stream",
     "text": [
      "0        2013-10-05 21:00:50\n",
      "1        2013-08-17 15:26:38\n",
      "2        2013-08-17 12:28:27\n",
      "3        2013-06-15 14:38:09\n",
      "4        2020-07-23 01:42:04\n",
      "                 ...        \n",
      "898338   2021-02-20 21:45:51\n",
      "898339   2020-04-04 00:00:52\n",
      "898340   2020-04-17 07:03:35\n",
      "898341   2020-04-17 07:17:32\n",
      "898342   2013-03-09 12:37:35\n",
      "Name: ratings_datetime, Length: 898343, dtype: datetime64[ns]\n"
     ]
    }
   ],
   "source": [
    "#convert column ratings_timestamp to datetime\n",
    "df['ratings_datetime'] = df['rating_timestamp'].apply(lambda timestamp: pd.to_datetime(timestamp, unit='s'))\n",
    "print(df['ratings_datetime'])"
   ]
  },
  {
   "cell_type": "code",
   "execution_count": 111,
   "id": "medium-beatles",
   "metadata": {},
   "outputs": [],
   "source": [
    "df.head()\n",
    "df.to_csv('./data/ratings_datetime.csv')"
   ]
  },
  {
   "cell_type": "code",
   "execution_count": 123,
   "id": "color-coast",
   "metadata": {},
   "outputs": [
    {
     "name": "stderr",
     "output_type": "stream",
     "text": [
      "<ipython-input-123-d930045a223a>:9: ParserWarning: Falling back to the 'python' engine because the 'c' engine does not support regex separators (separators > 1 char and different from '\\s+' are interpreted as regex); you can avoid this warning by specifying engine='python'.\n",
      "  df_movies=pd.read_csv(utf8_formatted_movies_input, sep=\"::\", names=['movie_id','movie_title (movie_year)','genre'])\n"
     ]
    }
   ],
   "source": [
    "#download the file\n",
    "url = file_access_web_url('movies_file')\n",
    "movies_file = requests.get(url, allow_redirects=True)\n",
    "#save the downloaded data into the taget file in the local system\n",
    "with open('./data/movies.dat', 'wb+') as file:\n",
    "    file.write(ratings_file.content)\n",
    "#\n",
    "utf8_formatted_movies_input = io.StringIO(movies_file.content.decode('utf-8'))\n",
    "df_movies=pd.read_csv(utf8_formatted_movies_input, sep=\"::\", names=['movie_id','movie_title (movie_year)','genre'])\n",
    "df_movies.to_csv('./data/movies.csv', index_label='index_col')"
   ]
  },
  {
   "cell_type": "code",
   "execution_count": 124,
   "id": "corresponding-american",
   "metadata": {},
   "outputs": [
    {
     "data": {
      "text/html": [
       "<div>\n",
       "<style scoped>\n",
       "    .dataframe tbody tr th:only-of-type {\n",
       "        vertical-align: middle;\n",
       "    }\n",
       "\n",
       "    .dataframe tbody tr th {\n",
       "        vertical-align: top;\n",
       "    }\n",
       "\n",
       "    .dataframe thead th {\n",
       "        text-align: right;\n",
       "    }\n",
       "</style>\n",
       "<table border=\"1\" class=\"dataframe\">\n",
       "  <thead>\n",
       "    <tr style=\"text-align: right;\">\n",
       "      <th></th>\n",
       "      <th>movie_id</th>\n",
       "      <th>movie_title (movie_year)</th>\n",
       "      <th>genre</th>\n",
       "    </tr>\n",
       "    <tr>\n",
       "      <th>index_col</th>\n",
       "      <th></th>\n",
       "      <th></th>\n",
       "      <th></th>\n",
       "    </tr>\n",
       "  </thead>\n",
       "  <tbody>\n",
       "    <tr>\n",
       "      <th>0</th>\n",
       "      <td>8</td>\n",
       "      <td>Edison Kinetoscopic Record of a Sneeze (1894)</td>\n",
       "      <td>Documentary|Short</td>\n",
       "    </tr>\n",
       "    <tr>\n",
       "      <th>1</th>\n",
       "      <td>10</td>\n",
       "      <td>La sortie des usines Lumière (1895)</td>\n",
       "      <td>Documentary|Short</td>\n",
       "    </tr>\n",
       "    <tr>\n",
       "      <th>2</th>\n",
       "      <td>12</td>\n",
       "      <td>The Arrival of a Train (1896)</td>\n",
       "      <td>Documentary|Short</td>\n",
       "    </tr>\n",
       "    <tr>\n",
       "      <th>3</th>\n",
       "      <td>25</td>\n",
       "      <td>The Oxford and Cambridge University Boat Race ...</td>\n",
       "      <td>NaN</td>\n",
       "    </tr>\n",
       "    <tr>\n",
       "      <th>4</th>\n",
       "      <td>91</td>\n",
       "      <td>Le manoir du diable (1896)</td>\n",
       "      <td>Short|Horror</td>\n",
       "    </tr>\n",
       "  </tbody>\n",
       "</table>\n",
       "</div>"
      ],
      "text/plain": [
       "           movie_id                           movie_title (movie_year)  \\\n",
       "index_col                                                                \n",
       "0                 8      Edison Kinetoscopic Record of a Sneeze (1894)   \n",
       "1                10                La sortie des usines Lumière (1895)   \n",
       "2                12                      The Arrival of a Train (1896)   \n",
       "3                25  The Oxford and Cambridge University Boat Race ...   \n",
       "4                91                         Le manoir du diable (1896)   \n",
       "\n",
       "                       genre  \n",
       "index_col                     \n",
       "0          Documentary|Short  \n",
       "1          Documentary|Short  \n",
       "2          Documentary|Short  \n",
       "3                        NaN  \n",
       "4               Short|Horror  "
      ]
     },
     "execution_count": 124,
     "metadata": {},
     "output_type": "execute_result"
    }
   ],
   "source": [
    "df_movies = pd.read_csv('./data/movies.csv',index_col=['index_col'])\n",
    "df_movies.head()"
   ]
  },
  {
   "cell_type": "code",
   "execution_count": 125,
   "id": "thermal-insurance",
   "metadata": {},
   "outputs": [
    {
     "data": {
      "text/html": [
       "<div>\n",
       "<style scoped>\n",
       "    .dataframe tbody tr th:only-of-type {\n",
       "        vertical-align: middle;\n",
       "    }\n",
       "\n",
       "    .dataframe tbody tr th {\n",
       "        vertical-align: top;\n",
       "    }\n",
       "\n",
       "    .dataframe thead th {\n",
       "        text-align: right;\n",
       "    }\n",
       "</style>\n",
       "<table border=\"1\" class=\"dataframe\">\n",
       "  <thead>\n",
       "    <tr style=\"text-align: right;\">\n",
       "      <th></th>\n",
       "      <th>user_id</th>\n",
       "      <th>movie_id</th>\n",
       "      <th>rating</th>\n",
       "      <th>rating_timestamp</th>\n",
       "      <th>ratings_datetime</th>\n",
       "    </tr>\n",
       "  </thead>\n",
       "  <tbody>\n",
       "    <tr>\n",
       "      <th>0</th>\n",
       "      <td>1</td>\n",
       "      <td>114508</td>\n",
       "      <td>8</td>\n",
       "      <td>1381006850</td>\n",
       "      <td>2013-10-05 21:00:50</td>\n",
       "    </tr>\n",
       "    <tr>\n",
       "      <th>1</th>\n",
       "      <td>2</td>\n",
       "      <td>499549</td>\n",
       "      <td>9</td>\n",
       "      <td>1376753198</td>\n",
       "      <td>2013-08-17 15:26:38</td>\n",
       "    </tr>\n",
       "    <tr>\n",
       "      <th>2</th>\n",
       "      <td>2</td>\n",
       "      <td>1305591</td>\n",
       "      <td>8</td>\n",
       "      <td>1376742507</td>\n",
       "      <td>2013-08-17 12:28:27</td>\n",
       "    </tr>\n",
       "    <tr>\n",
       "      <th>3</th>\n",
       "      <td>2</td>\n",
       "      <td>1428538</td>\n",
       "      <td>1</td>\n",
       "      <td>1371307089</td>\n",
       "      <td>2013-06-15 14:38:09</td>\n",
       "    </tr>\n",
       "    <tr>\n",
       "      <th>4</th>\n",
       "      <td>3</td>\n",
       "      <td>75314</td>\n",
       "      <td>1</td>\n",
       "      <td>1595468524</td>\n",
       "      <td>2020-07-23 01:42:04</td>\n",
       "    </tr>\n",
       "  </tbody>\n",
       "</table>\n",
       "</div>"
      ],
      "text/plain": [
       "   user_id  movie_id  rating  rating_timestamp    ratings_datetime\n",
       "0        1    114508       8        1381006850 2013-10-05 21:00:50\n",
       "1        2    499549       9        1376753198 2013-08-17 15:26:38\n",
       "2        2   1305591       8        1376742507 2013-08-17 12:28:27\n",
       "3        2   1428538       1        1371307089 2013-06-15 14:38:09\n",
       "4        3     75314       1        1595468524 2020-07-23 01:42:04"
      ]
     },
     "execution_count": 125,
     "metadata": {},
     "output_type": "execute_result"
    }
   ],
   "source": [
    "df_1 = df.copy(deep=True)\n",
    "df_1.head()"
   ]
  },
  {
   "cell_type": "code",
   "execution_count": 139,
   "id": "chemical-interference",
   "metadata": {},
   "outputs": [
    {
     "data": {
      "text/html": [
       "<div>\n",
       "<style scoped>\n",
       "    .dataframe tbody tr th:only-of-type {\n",
       "        vertical-align: middle;\n",
       "    }\n",
       "\n",
       "    .dataframe tbody tr th {\n",
       "        vertical-align: top;\n",
       "    }\n",
       "\n",
       "    .dataframe thead th {\n",
       "        text-align: right;\n",
       "    }\n",
       "</style>\n",
       "<table border=\"1\" class=\"dataframe\">\n",
       "  <thead>\n",
       "    <tr style=\"text-align: right;\">\n",
       "      <th></th>\n",
       "      <th>user_id</th>\n",
       "      <th>movie_id_from_ratings_table</th>\n",
       "      <th>rating</th>\n",
       "      <th>rating_timestamp</th>\n",
       "      <th>ratings_datetime</th>\n",
       "      <th>movie_id_from_movienames_table</th>\n",
       "      <th>movie_title (movie_year)</th>\n",
       "      <th>genre</th>\n",
       "    </tr>\n",
       "  </thead>\n",
       "  <tbody>\n",
       "    <tr>\n",
       "      <th>0</th>\n",
       "      <td>1</td>\n",
       "      <td>114508</td>\n",
       "      <td>8</td>\n",
       "      <td>1381006850</td>\n",
       "      <td>2013-10-05 21:00:50</td>\n",
       "      <td>NaN</td>\n",
       "      <td>NaN</td>\n",
       "      <td>NaN</td>\n",
       "    </tr>\n",
       "    <tr>\n",
       "      <th>1</th>\n",
       "      <td>2</td>\n",
       "      <td>499549</td>\n",
       "      <td>9</td>\n",
       "      <td>1376753198</td>\n",
       "      <td>2013-08-17 15:26:38</td>\n",
       "      <td>NaN</td>\n",
       "      <td>NaN</td>\n",
       "      <td>NaN</td>\n",
       "    </tr>\n",
       "    <tr>\n",
       "      <th>2</th>\n",
       "      <td>2</td>\n",
       "      <td>1305591</td>\n",
       "      <td>8</td>\n",
       "      <td>1376742507</td>\n",
       "      <td>2013-08-17 12:28:27</td>\n",
       "      <td>NaN</td>\n",
       "      <td>NaN</td>\n",
       "      <td>NaN</td>\n",
       "    </tr>\n",
       "    <tr>\n",
       "      <th>3</th>\n",
       "      <td>2</td>\n",
       "      <td>1428538</td>\n",
       "      <td>1</td>\n",
       "      <td>1371307089</td>\n",
       "      <td>2013-06-15 14:38:09</td>\n",
       "      <td>NaN</td>\n",
       "      <td>NaN</td>\n",
       "      <td>NaN</td>\n",
       "    </tr>\n",
       "    <tr>\n",
       "      <th>4</th>\n",
       "      <td>3</td>\n",
       "      <td>75314</td>\n",
       "      <td>1</td>\n",
       "      <td>1595468524</td>\n",
       "      <td>2020-07-23 01:42:04</td>\n",
       "      <td>NaN</td>\n",
       "      <td>NaN</td>\n",
       "      <td>NaN</td>\n",
       "    </tr>\n",
       "  </tbody>\n",
       "</table>\n",
       "</div>"
      ],
      "text/plain": [
       "   user_id  movie_id_from_ratings_table  rating  rating_timestamp  \\\n",
       "0        1                       114508       8        1381006850   \n",
       "1        2                       499549       9        1376753198   \n",
       "2        2                      1305591       8        1376742507   \n",
       "3        2                      1428538       1        1371307089   \n",
       "4        3                        75314       1        1595468524   \n",
       "\n",
       "     ratings_datetime  movie_id_from_movienames_table  \\\n",
       "0 2013-10-05 21:00:50                             NaN   \n",
       "1 2013-08-17 15:26:38                             NaN   \n",
       "2 2013-08-17 12:28:27                             NaN   \n",
       "3 2013-06-15 14:38:09                             NaN   \n",
       "4 2020-07-23 01:42:04                             NaN   \n",
       "\n",
       "  movie_title (movie_year) genre  \n",
       "0                      NaN   NaN  \n",
       "1                      NaN   NaN  \n",
       "2                      NaN   NaN  \n",
       "3                      NaN   NaN  \n",
       "4                      NaN   NaN  "
      ]
     },
     "execution_count": 139,
     "metadata": {},
     "output_type": "execute_result"
    }
   ],
   "source": [
    "df_joined = df_1.join(df_movies, on='movie_id', how='left', lsuffix='_from_ratings_table', rsuffix='_from_movienames_table')\n",
    "df_joined.head()"
   ]
  },
  {
   "cell_type": "code",
   "execution_count": 140,
   "id": "exciting-imaging",
   "metadata": {},
   "outputs": [
    {
     "data": {
      "text/plain": [
       "user_id             898343\n",
       "movie_id            898343\n",
       "rating              898343\n",
       "rating_timestamp    898343\n",
       "ratings_datetime    898343\n",
       "dtype: int64"
      ]
     },
     "execution_count": 140,
     "metadata": {},
     "output_type": "execute_result"
    }
   ],
   "source": [
    "df_1.count()\n"
   ]
  },
  {
   "cell_type": "code",
   "execution_count": 141,
   "id": "suburban-chemistry",
   "metadata": {},
   "outputs": [
    {
     "data": {
      "text/plain": [
       "movie_id                    36980\n",
       "movie_title (movie_year)    36980\n",
       "genre                       36869\n",
       "dtype: int64"
      ]
     },
     "execution_count": 141,
     "metadata": {},
     "output_type": "execute_result"
    }
   ],
   "source": [
    "df_movies.count()"
   ]
  },
  {
   "cell_type": "code",
   "execution_count": 142,
   "id": "occasional-group",
   "metadata": {},
   "outputs": [
    {
     "data": {
      "text/plain": [
       "user_id                           898343\n",
       "movie_id_from_ratings_table       898343\n",
       "rating                            898343\n",
       "rating_timestamp                  898343\n",
       "ratings_datetime                  898343\n",
       "movie_id_from_movienames_table      4833\n",
       "movie_title (movie_year)            4833\n",
       "genre                               4827\n",
       "dtype: int64"
      ]
     },
     "execution_count": 142,
     "metadata": {},
     "output_type": "execute_result"
    }
   ],
   "source": [
    "\n",
    "df_joined.count()"
   ]
  },
  {
   "cell_type": "code",
   "execution_count": 143,
   "id": "maritime-jones",
   "metadata": {},
   "outputs": [
    {
     "data": {
      "text/html": [
       "<div>\n",
       "<style scoped>\n",
       "    .dataframe tbody tr th:only-of-type {\n",
       "        vertical-align: middle;\n",
       "    }\n",
       "\n",
       "    .dataframe tbody tr th {\n",
       "        vertical-align: top;\n",
       "    }\n",
       "\n",
       "    .dataframe thead th {\n",
       "        text-align: right;\n",
       "    }\n",
       "</style>\n",
       "<table border=\"1\" class=\"dataframe\">\n",
       "  <thead>\n",
       "    <tr style=\"text-align: right;\">\n",
       "      <th></th>\n",
       "      <th>user_id</th>\n",
       "      <th>movie_id_from_ratings_table</th>\n",
       "      <th>rating</th>\n",
       "      <th>rating_timestamp</th>\n",
       "      <th>movie_id_from_movienames_table</th>\n",
       "    </tr>\n",
       "  </thead>\n",
       "  <tbody>\n",
       "    <tr>\n",
       "      <th>count</th>\n",
       "      <td>898343.000000</td>\n",
       "      <td>8.983430e+05</td>\n",
       "      <td>898343.000000</td>\n",
       "      <td>8.983430e+05</td>\n",
       "      <td>4.833000e+03</td>\n",
       "    </tr>\n",
       "    <tr>\n",
       "      <th>mean</th>\n",
       "      <td>35291.876940</td>\n",
       "      <td>2.213755e+06</td>\n",
       "      <td>7.316803</td>\n",
       "      <td>1.460996e+09</td>\n",
       "      <td>4.467992e+06</td>\n",
       "    </tr>\n",
       "    <tr>\n",
       "      <th>std</th>\n",
       "      <td>20343.028377</td>\n",
       "      <td>2.074951e+06</td>\n",
       "      <td>1.852982</td>\n",
       "      <td>7.050200e+07</td>\n",
       "      <td>3.015308e+06</td>\n",
       "    </tr>\n",
       "    <tr>\n",
       "      <th>min</th>\n",
       "      <td>1.000000</td>\n",
       "      <td>8.000000e+00</td>\n",
       "      <td>0.000000</td>\n",
       "      <td>1.362062e+09</td>\n",
       "      <td>4.430000e+02</td>\n",
       "    </tr>\n",
       "    <tr>\n",
       "      <th>25%</th>\n",
       "      <td>17990.000000</td>\n",
       "      <td>7.654290e+05</td>\n",
       "      <td>6.000000</td>\n",
       "      <td>1.396684e+09</td>\n",
       "      <td>1.929178e+06</td>\n",
       "    </tr>\n",
       "    <tr>\n",
       "      <th>50%</th>\n",
       "      <td>35145.000000</td>\n",
       "      <td>1.723121e+06</td>\n",
       "      <td>8.000000</td>\n",
       "      <td>1.451290e+09</td>\n",
       "      <td>4.229298e+06</td>\n",
       "    </tr>\n",
       "    <tr>\n",
       "      <th>75%</th>\n",
       "      <td>52512.500000</td>\n",
       "      <td>2.911666e+06</td>\n",
       "      <td>9.000000</td>\n",
       "      <td>1.516088e+09</td>\n",
       "      <td>6.427442e+06</td>\n",
       "    </tr>\n",
       "    <tr>\n",
       "      <th>max</th>\n",
       "      <td>70210.000000</td>\n",
       "      <td>1.423741e+07</td>\n",
       "      <td>10.000000</td>\n",
       "      <td>1.616886e+09</td>\n",
       "      <td>1.388669e+07</td>\n",
       "    </tr>\n",
       "  </tbody>\n",
       "</table>\n",
       "</div>"
      ],
      "text/plain": [
       "             user_id  movie_id_from_ratings_table         rating  \\\n",
       "count  898343.000000                 8.983430e+05  898343.000000   \n",
       "mean    35291.876940                 2.213755e+06       7.316803   \n",
       "std     20343.028377                 2.074951e+06       1.852982   \n",
       "min         1.000000                 8.000000e+00       0.000000   \n",
       "25%     17990.000000                 7.654290e+05       6.000000   \n",
       "50%     35145.000000                 1.723121e+06       8.000000   \n",
       "75%     52512.500000                 2.911666e+06       9.000000   \n",
       "max     70210.000000                 1.423741e+07      10.000000   \n",
       "\n",
       "       rating_timestamp  movie_id_from_movienames_table  \n",
       "count      8.983430e+05                    4.833000e+03  \n",
       "mean       1.460996e+09                    4.467992e+06  \n",
       "std        7.050200e+07                    3.015308e+06  \n",
       "min        1.362062e+09                    4.430000e+02  \n",
       "25%        1.396684e+09                    1.929178e+06  \n",
       "50%        1.451290e+09                    4.229298e+06  \n",
       "75%        1.516088e+09                    6.427442e+06  \n",
       "max        1.616886e+09                    1.388669e+07  "
      ]
     },
     "execution_count": 143,
     "metadata": {},
     "output_type": "execute_result"
    }
   ],
   "source": [
    "df_joined.describe()"
   ]
  },
  {
   "cell_type": "code",
   "execution_count": 144,
   "id": "racial-warning",
   "metadata": {},
   "outputs": [
    {
     "data": {
      "text/html": [
       "<div>\n",
       "<style scoped>\n",
       "    .dataframe tbody tr th:only-of-type {\n",
       "        vertical-align: middle;\n",
       "    }\n",
       "\n",
       "    .dataframe tbody tr th {\n",
       "        vertical-align: top;\n",
       "    }\n",
       "\n",
       "    .dataframe thead th {\n",
       "        text-align: right;\n",
       "    }\n",
       "</style>\n",
       "<table border=\"1\" class=\"dataframe\">\n",
       "  <thead>\n",
       "    <tr style=\"text-align: right;\">\n",
       "      <th></th>\n",
       "      <th>user_id</th>\n",
       "      <th>movie_id_from_ratings_table</th>\n",
       "      <th>rating</th>\n",
       "      <th>rating_timestamp</th>\n",
       "      <th>ratings_datetime</th>\n",
       "      <th>movie_id_from_movienames_table</th>\n",
       "      <th>movie_title (movie_year)</th>\n",
       "      <th>genre</th>\n",
       "    </tr>\n",
       "    <tr>\n",
       "      <th>index_col</th>\n",
       "      <th></th>\n",
       "      <th></th>\n",
       "      <th></th>\n",
       "      <th></th>\n",
       "      <th></th>\n",
       "      <th></th>\n",
       "      <th></th>\n",
       "      <th></th>\n",
       "    </tr>\n",
       "  </thead>\n",
       "  <tbody>\n",
       "    <tr>\n",
       "      <th>0</th>\n",
       "      <td>1</td>\n",
       "      <td>114508</td>\n",
       "      <td>8</td>\n",
       "      <td>1381006850</td>\n",
       "      <td>2013-10-05 21:00:50</td>\n",
       "      <td>NaN</td>\n",
       "      <td>NaN</td>\n",
       "      <td>NaN</td>\n",
       "    </tr>\n",
       "    <tr>\n",
       "      <th>1</th>\n",
       "      <td>2</td>\n",
       "      <td>499549</td>\n",
       "      <td>9</td>\n",
       "      <td>1376753198</td>\n",
       "      <td>2013-08-17 15:26:38</td>\n",
       "      <td>NaN</td>\n",
       "      <td>NaN</td>\n",
       "      <td>NaN</td>\n",
       "    </tr>\n",
       "    <tr>\n",
       "      <th>2</th>\n",
       "      <td>2</td>\n",
       "      <td>1305591</td>\n",
       "      <td>8</td>\n",
       "      <td>1376742507</td>\n",
       "      <td>2013-08-17 12:28:27</td>\n",
       "      <td>NaN</td>\n",
       "      <td>NaN</td>\n",
       "      <td>NaN</td>\n",
       "    </tr>\n",
       "    <tr>\n",
       "      <th>3</th>\n",
       "      <td>2</td>\n",
       "      <td>1428538</td>\n",
       "      <td>1</td>\n",
       "      <td>1371307089</td>\n",
       "      <td>2013-06-15 14:38:09</td>\n",
       "      <td>NaN</td>\n",
       "      <td>NaN</td>\n",
       "      <td>NaN</td>\n",
       "    </tr>\n",
       "    <tr>\n",
       "      <th>4</th>\n",
       "      <td>3</td>\n",
       "      <td>75314</td>\n",
       "      <td>1</td>\n",
       "      <td>1595468524</td>\n",
       "      <td>2020-07-23 01:42:04</td>\n",
       "      <td>NaN</td>\n",
       "      <td>NaN</td>\n",
       "      <td>NaN</td>\n",
       "    </tr>\n",
       "  </tbody>\n",
       "</table>\n",
       "</div>"
      ],
      "text/plain": [
       "           user_id  movie_id_from_ratings_table  rating  rating_timestamp  \\\n",
       "index_col                                                                   \n",
       "0                1                       114508       8        1381006850   \n",
       "1                2                       499549       9        1376753198   \n",
       "2                2                      1305591       8        1376742507   \n",
       "3                2                      1428538       1        1371307089   \n",
       "4                3                        75314       1        1595468524   \n",
       "\n",
       "              ratings_datetime  movie_id_from_movienames_table  \\\n",
       "index_col                                                        \n",
       "0          2013-10-05 21:00:50                             NaN   \n",
       "1          2013-08-17 15:26:38                             NaN   \n",
       "2          2013-08-17 12:28:27                             NaN   \n",
       "3          2013-06-15 14:38:09                             NaN   \n",
       "4          2020-07-23 01:42:04                             NaN   \n",
       "\n",
       "          movie_title (movie_year) genre  \n",
       "index_col                                 \n",
       "0                              NaN   NaN  \n",
       "1                              NaN   NaN  \n",
       "2                              NaN   NaN  \n",
       "3                              NaN   NaN  \n",
       "4                              NaN   NaN  "
      ]
     },
     "execution_count": 144,
     "metadata": {},
     "output_type": "execute_result"
    }
   ],
   "source": [
    "df_joined.to_csv('./data/joined.csv', index_label='index_col')\n",
    "df_joined = pd.read_csv('./data/joined.csv', index_col='index_col')\n",
    "df_joined.head()"
   ]
  },
  {
   "cell_type": "markdown",
   "id": "independent-banking",
   "metadata": {},
   "source": [
    "Questions are Answered Below with Charts:"
   ]
  },
  {
   "cell_type": "markdown",
   "id": "worst-underwear",
   "metadata": {},
   "source": [
    "Question #1: How many users and movies are mentioned in the dataset?"
   ]
  },
  {
   "cell_type": "code",
   "execution_count": 148,
   "id": "identical-thursday",
   "metadata": {},
   "outputs": [
    {
     "name": "stdout",
     "output_type": "stream",
     "text": [
      "The total number of users are 70210, while the total number of movies are 36976\n"
     ]
    }
   ],
   "source": [
    "num_movies = len(pd.unique(df_joined['movie_id_from_ratings_table']))\n",
    "num_users  = len(pd.unique(df_joined['user_id']))\n",
    "print(f\"The total number of users are {num_users}, while the total number of movies are {num_movies}\")"
   ]
  },
  {
   "cell_type": "markdown",
   "id": "bizarre-possible",
   "metadata": {},
   "source": [
    "Question #2: How old are the data points (number of datapoints pr year)?"
   ]
  },
  {
   "cell_type": "code",
   "execution_count": 149,
   "id": "technological-virgin",
   "metadata": {},
   "outputs": [],
   "source": [
    "df_joined['ratings_datetime'] = df_joined['rating_timestamp'].apply(lambda timestamp: pd.to_datetime(timestamp, unit='s'))\n",
    "df_joined['year']  = pd.DatetimeIndex(df_joined['ratings_datetime']).year"
   ]
  },
  {
   "cell_type": "code",
   "execution_count": 150,
   "id": "adaptive-glory",
   "metadata": {},
   "outputs": [
    {
     "data": {
      "text/html": [
       "<div>\n",
       "<style scoped>\n",
       "    .dataframe tbody tr th:only-of-type {\n",
       "        vertical-align: middle;\n",
       "    }\n",
       "\n",
       "    .dataframe tbody tr th {\n",
       "        vertical-align: top;\n",
       "    }\n",
       "\n",
       "    .dataframe thead th {\n",
       "        text-align: right;\n",
       "    }\n",
       "</style>\n",
       "<table border=\"1\" class=\"dataframe\">\n",
       "  <thead>\n",
       "    <tr style=\"text-align: right;\">\n",
       "      <th></th>\n",
       "      <th>user_id</th>\n",
       "      <th>movie_id_from_ratings_table</th>\n",
       "      <th>rating</th>\n",
       "      <th>rating_timestamp</th>\n",
       "      <th>ratings_datetime</th>\n",
       "      <th>movie_id_from_movienames_table</th>\n",
       "      <th>movie_title (movie_year)</th>\n",
       "      <th>genre</th>\n",
       "      <th>year</th>\n",
       "    </tr>\n",
       "    <tr>\n",
       "      <th>index_col</th>\n",
       "      <th></th>\n",
       "      <th></th>\n",
       "      <th></th>\n",
       "      <th></th>\n",
       "      <th></th>\n",
       "      <th></th>\n",
       "      <th></th>\n",
       "      <th></th>\n",
       "      <th></th>\n",
       "    </tr>\n",
       "  </thead>\n",
       "  <tbody>\n",
       "    <tr>\n",
       "      <th>0</th>\n",
       "      <td>1</td>\n",
       "      <td>114508</td>\n",
       "      <td>8</td>\n",
       "      <td>1381006850</td>\n",
       "      <td>2013-10-05 21:00:50</td>\n",
       "      <td>NaN</td>\n",
       "      <td>NaN</td>\n",
       "      <td>NaN</td>\n",
       "      <td>2013</td>\n",
       "    </tr>\n",
       "    <tr>\n",
       "      <th>1</th>\n",
       "      <td>2</td>\n",
       "      <td>499549</td>\n",
       "      <td>9</td>\n",
       "      <td>1376753198</td>\n",
       "      <td>2013-08-17 15:26:38</td>\n",
       "      <td>NaN</td>\n",
       "      <td>NaN</td>\n",
       "      <td>NaN</td>\n",
       "      <td>2013</td>\n",
       "    </tr>\n",
       "    <tr>\n",
       "      <th>2</th>\n",
       "      <td>2</td>\n",
       "      <td>1305591</td>\n",
       "      <td>8</td>\n",
       "      <td>1376742507</td>\n",
       "      <td>2013-08-17 12:28:27</td>\n",
       "      <td>NaN</td>\n",
       "      <td>NaN</td>\n",
       "      <td>NaN</td>\n",
       "      <td>2013</td>\n",
       "    </tr>\n",
       "    <tr>\n",
       "      <th>3</th>\n",
       "      <td>2</td>\n",
       "      <td>1428538</td>\n",
       "      <td>1</td>\n",
       "      <td>1371307089</td>\n",
       "      <td>2013-06-15 14:38:09</td>\n",
       "      <td>NaN</td>\n",
       "      <td>NaN</td>\n",
       "      <td>NaN</td>\n",
       "      <td>2013</td>\n",
       "    </tr>\n",
       "    <tr>\n",
       "      <th>4</th>\n",
       "      <td>3</td>\n",
       "      <td>75314</td>\n",
       "      <td>1</td>\n",
       "      <td>1595468524</td>\n",
       "      <td>2020-07-23 01:42:04</td>\n",
       "      <td>NaN</td>\n",
       "      <td>NaN</td>\n",
       "      <td>NaN</td>\n",
       "      <td>2020</td>\n",
       "    </tr>\n",
       "  </tbody>\n",
       "</table>\n",
       "</div>"
      ],
      "text/plain": [
       "           user_id  movie_id_from_ratings_table  rating  rating_timestamp  \\\n",
       "index_col                                                                   \n",
       "0                1                       114508       8        1381006850   \n",
       "1                2                       499549       9        1376753198   \n",
       "2                2                      1305591       8        1376742507   \n",
       "3                2                      1428538       1        1371307089   \n",
       "4                3                        75314       1        1595468524   \n",
       "\n",
       "             ratings_datetime  movie_id_from_movienames_table  \\\n",
       "index_col                                                       \n",
       "0         2013-10-05 21:00:50                             NaN   \n",
       "1         2013-08-17 15:26:38                             NaN   \n",
       "2         2013-08-17 12:28:27                             NaN   \n",
       "3         2013-06-15 14:38:09                             NaN   \n",
       "4         2020-07-23 01:42:04                             NaN   \n",
       "\n",
       "          movie_title (movie_year) genre  year  \n",
       "index_col                                       \n",
       "0                              NaN   NaN  2013  \n",
       "1                              NaN   NaN  2013  \n",
       "2                              NaN   NaN  2013  \n",
       "3                              NaN   NaN  2013  \n",
       "4                              NaN   NaN  2020  "
      ]
     },
     "execution_count": 150,
     "metadata": {},
     "output_type": "execute_result"
    }
   ],
   "source": [
    "df_joined.head()"
   ]
  },
  {
   "cell_type": "code",
   "execution_count": 163,
   "id": "later-converter",
   "metadata": {},
   "outputs": [
    {
     "data": {
      "text/html": [
       "<div>\n",
       "<style scoped>\n",
       "    .dataframe tbody tr th:only-of-type {\n",
       "        vertical-align: middle;\n",
       "    }\n",
       "\n",
       "    .dataframe tbody tr th {\n",
       "        vertical-align: top;\n",
       "    }\n",
       "\n",
       "    .dataframe thead th {\n",
       "        text-align: right;\n",
       "    }\n",
       "</style>\n",
       "<table border=\"1\" class=\"dataframe\">\n",
       "  <thead>\n",
       "    <tr style=\"text-align: right;\">\n",
       "      <th></th>\n",
       "      <th>user_id</th>\n",
       "    </tr>\n",
       "    <tr>\n",
       "      <th>year</th>\n",
       "      <th></th>\n",
       "    </tr>\n",
       "  </thead>\n",
       "  <tbody>\n",
       "    <tr>\n",
       "      <th>2013</th>\n",
       "      <td>170807</td>\n",
       "    </tr>\n",
       "    <tr>\n",
       "      <th>2014</th>\n",
       "      <td>156354</td>\n",
       "    </tr>\n",
       "    <tr>\n",
       "      <th>2015</th>\n",
       "      <td>123644</td>\n",
       "    </tr>\n",
       "    <tr>\n",
       "      <th>2016</th>\n",
       "      <td>112455</td>\n",
       "    </tr>\n",
       "    <tr>\n",
       "      <th>2017</th>\n",
       "      <td>105987</td>\n",
       "    </tr>\n",
       "    <tr>\n",
       "      <th>2018</th>\n",
       "      <td>81870</td>\n",
       "    </tr>\n",
       "    <tr>\n",
       "      <th>2019</th>\n",
       "      <td>74183</td>\n",
       "    </tr>\n",
       "    <tr>\n",
       "      <th>2020</th>\n",
       "      <td>63146</td>\n",
       "    </tr>\n",
       "    <tr>\n",
       "      <th>2021</th>\n",
       "      <td>9897</td>\n",
       "    </tr>\n",
       "  </tbody>\n",
       "</table>\n",
       "</div>"
      ],
      "text/plain": [
       "      user_id\n",
       "year         \n",
       "2013   170807\n",
       "2014   156354\n",
       "2015   123644\n",
       "2016   112455\n",
       "2017   105987\n",
       "2018    81870\n",
       "2019    74183\n",
       "2020    63146\n",
       "2021     9897"
      ]
     },
     "execution_count": 163,
     "metadata": {},
     "output_type": "execute_result"
    }
   ],
   "source": [
    "df_joined[[\"user_id\", \"year\"]].groupby([\"year\"]).count()\n"
   ]
  },
  {
   "cell_type": "code",
   "execution_count": 162,
   "id": "corporate-heavy",
   "metadata": {},
   "outputs": [
    {
     "data": {
      "text/plain": [
       "<AxesSubplot:ylabel='year'>"
      ]
     },
     "execution_count": 162,
     "metadata": {},
     "output_type": "execute_result"
    },
    {
     "data": {
      "image/png": "[encoded data removed]",
      "text/plain": [
       "<Figure size 432x288 with 1 Axes>"
      ]
     },
     "metadata": {},
     "output_type": "display_data"
    }
   ],
   "source": [
    "df_joined[ \"year\"].value_counts().plot.pie()"
   ]
  },
  {
   "cell_type": "markdown",
   "id": "fabulous-murder",
   "metadata": {},
   "source": [
    "Question #3: How popular are popular movies - Looking at the data when will you say a movie is popular?"
   ]
  },
  {
   "cell_type": "code",
   "execution_count": 170,
   "id": "sought-theorem",
   "metadata": {},
   "outputs": [
    {
     "data": {
      "text/html": [
       "<div>\n",
       "<style scoped>\n",
       "    .dataframe tbody tr th:only-of-type {\n",
       "        vertical-align: middle;\n",
       "    }\n",
       "\n",
       "    .dataframe tbody tr th {\n",
       "        vertical-align: top;\n",
       "    }\n",
       "\n",
       "    .dataframe thead th {\n",
       "        text-align: right;\n",
       "    }\n",
       "</style>\n",
       "<table border=\"1\" class=\"dataframe\">\n",
       "  <thead>\n",
       "    <tr style=\"text-align: right;\">\n",
       "      <th></th>\n",
       "      <th>user_id</th>\n",
       "    </tr>\n",
       "    <tr>\n",
       "      <th>movie_id_from_ratings_table</th>\n",
       "      <th></th>\n",
       "    </tr>\n",
       "  </thead>\n",
       "  <tbody>\n",
       "    <tr>\n",
       "      <th>1454468</th>\n",
       "      <td>3103</td>\n",
       "    </tr>\n",
       "    <tr>\n",
       "      <th>816692</th>\n",
       "      <td>2941</td>\n",
       "    </tr>\n",
       "    <tr>\n",
       "      <th>8579674</th>\n",
       "      <td>2871</td>\n",
       "    </tr>\n",
       "    <tr>\n",
       "      <th>993846</th>\n",
       "      <td>2833</td>\n",
       "    </tr>\n",
       "    <tr>\n",
       "      <th>7286456</th>\n",
       "      <td>2752</td>\n",
       "    </tr>\n",
       "  </tbody>\n",
       "</table>\n",
       "</div>"
      ],
      "text/plain": [
       "                             user_id\n",
       "movie_id_from_ratings_table         \n",
       "1454468                         3103\n",
       "816692                          2941\n",
       "8579674                         2871\n",
       "993846                          2833\n",
       "7286456                         2752"
      ]
     },
     "execution_count": 170,
     "metadata": {},
     "output_type": "execute_result"
    }
   ],
   "source": [
    "df_popularity = df_joined[['movie_id_from_ratings_table', 'user_id']].groupby('movie_id_from_ratings_table').count().sort_values(by='user_id', ascending=False)\n",
    "df_popularity.head()"
   ]
  },
  {
   "cell_type": "markdown",
   "id": "written-fifteen",
   "metadata": {},
   "source": [
    "The top 10% or so of the highest rated movies can be considered to be popular, the picking of the percentage is subjective though."
   ]
  },
  {
   "cell_type": "markdown",
   "id": "unexpected-blues",
   "metadata": {},
   "source": [
    "Question #4: How many long-tail movies are there?"
   ]
  },
  {
   "cell_type": "markdown",
   "id": "seasonal-december",
   "metadata": {},
   "source": [
    "The least popular movies are long-tail movies the bottom 10% can be considered long-tailed"
   ]
  },
  {
   "cell_type": "code",
   "execution_count": 172,
   "id": "adjustable-confidence",
   "metadata": {},
   "outputs": [
    {
     "data": {
      "text/html": [
       "<div>\n",
       "<style scoped>\n",
       "    .dataframe tbody tr th:only-of-type {\n",
       "        vertical-align: middle;\n",
       "    }\n",
       "\n",
       "    .dataframe tbody tr th {\n",
       "        vertical-align: top;\n",
       "    }\n",
       "\n",
       "    .dataframe thead th {\n",
       "        text-align: right;\n",
       "    }\n",
       "</style>\n",
       "<table border=\"1\" class=\"dataframe\">\n",
       "  <thead>\n",
       "    <tr style=\"text-align: right;\">\n",
       "      <th></th>\n",
       "      <th>user_id</th>\n",
       "    </tr>\n",
       "    <tr>\n",
       "      <th>movie_id_from_ratings_table</th>\n",
       "      <th></th>\n",
       "    </tr>\n",
       "  </thead>\n",
       "  <tbody>\n",
       "    <tr>\n",
       "      <th>8</th>\n",
       "      <td>1</td>\n",
       "    </tr>\n",
       "    <tr>\n",
       "      <th>1572008</th>\n",
       "      <td>1</td>\n",
       "    </tr>\n",
       "    <tr>\n",
       "      <th>1571565</th>\n",
       "      <td>1</td>\n",
       "    </tr>\n",
       "    <tr>\n",
       "      <th>1571401</th>\n",
       "      <td>1</td>\n",
       "    </tr>\n",
       "    <tr>\n",
       "      <th>1571247</th>\n",
       "      <td>1</td>\n",
       "    </tr>\n",
       "  </tbody>\n",
       "</table>\n",
       "</div>"
      ],
      "text/plain": [
       "                             user_id\n",
       "movie_id_from_ratings_table         \n",
       "8                                  1\n",
       "1572008                            1\n",
       "1571565                            1\n",
       "1571401                            1\n",
       "1571247                            1"
      ]
     },
     "execution_count": 172,
     "metadata": {},
     "output_type": "execute_result"
    }
   ],
   "source": [
    "df_unpopular = df_joined[['movie_id_from_ratings_table', 'user_id']].groupby('movie_id_from_ratings_table').count().sort_values(by='user_id', ascending=True)\n",
    "df_unpopular.head()"
   ]
  },
  {
   "cell_type": "markdown",
   "id": "fantastic-newspaper",
   "metadata": {},
   "source": [
    "Question #5: How many movies has each user rated?"
   ]
  },
  {
   "cell_type": "code",
   "execution_count": 176,
   "id": "another-hundred",
   "metadata": {},
   "outputs": [
    {
     "data": {
      "text/html": [
       "<div>\n",
       "<style scoped>\n",
       "    .dataframe tbody tr th:only-of-type {\n",
       "        vertical-align: middle;\n",
       "    }\n",
       "\n",
       "    .dataframe tbody tr th {\n",
       "        vertical-align: top;\n",
       "    }\n",
       "\n",
       "    .dataframe thead th {\n",
       "        text-align: right;\n",
       "    }\n",
       "</style>\n",
       "<table border=\"1\" class=\"dataframe\">\n",
       "  <thead>\n",
       "    <tr style=\"text-align: right;\">\n",
       "      <th></th>\n",
       "      <th>user_id</th>\n",
       "    </tr>\n",
       "    <tr>\n",
       "      <th>movie_id_from_ratings_table</th>\n",
       "      <th></th>\n",
       "    </tr>\n",
       "  </thead>\n",
       "  <tbody>\n",
       "    <tr>\n",
       "      <th>1454468</th>\n",
       "      <td>3103</td>\n",
       "    </tr>\n",
       "    <tr>\n",
       "      <th>816692</th>\n",
       "      <td>2941</td>\n",
       "    </tr>\n",
       "    <tr>\n",
       "      <th>8579674</th>\n",
       "      <td>2871</td>\n",
       "    </tr>\n",
       "    <tr>\n",
       "      <th>993846</th>\n",
       "      <td>2833</td>\n",
       "    </tr>\n",
       "    <tr>\n",
       "      <th>7286456</th>\n",
       "      <td>2752</td>\n",
       "    </tr>\n",
       "  </tbody>\n",
       "</table>\n",
       "</div>"
      ],
      "text/plain": [
       "                             user_id\n",
       "movie_id_from_ratings_table         \n",
       "1454468                         3103\n",
       "816692                          2941\n",
       "8579674                         2871\n",
       "993846                          2833\n",
       "7286456                         2752"
      ]
     },
     "execution_count": 176,
     "metadata": {},
     "output_type": "execute_result"
    }
   ],
   "source": [
    "df_movies_per_user = df_joined[['user_id', 'movie_id_from_ratings_table']].groupby(['movie_id_from_ratings_table']).count()\n",
    "df_movies_per_user = df_movies_per_user.sort_values(by=\"user_id\", ascending=False)\n",
    "df_movies_per_user.head()"
   ]
  },
  {
   "cell_type": "code",
   "execution_count": null,
   "id": "close-international",
   "metadata": {},
   "outputs": [],
   "source": []
  }
 ],
 "metadata": {
  "kernelspec": {
   "display_name": "Python 3",
   "language": "python",
   "name": "python3"
  },
  "language_info": {
   "codemirror_mode": {
    "name": "ipython",
    "version": 3
   },
   "file_extension": ".py",
   "mimetype": "text/x-python",
   "name": "python",
   "nbconvert_exporter": "python",
   "pygments_lexer": "ipython3",
   "version": "3.8.7"
  }
 },
 "nbformat": 4,
 "nbformat_minor": 5
}
